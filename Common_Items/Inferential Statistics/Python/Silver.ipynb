{
 "cells": [
  {
   "cell_type": "markdown",
   "metadata": {},
   "source": [
    "I. T-Test"
   ]
  },
  {
   "cell_type": "markdown",
   "metadata": {},
   "source": [
    "1. Objective\n",
    "Compare the mean closing price (close) between two groups:  \n",
    "Group 1: Closing prices before 2022.  \n",
    "Group 2: Closing prices after 2022.  "
   ]
  },
  {
   "cell_type": "markdown",
   "metadata": {},
   "source": [
    "2.  Hypotheses  \n",
    "Null hypothesis (H0): There is no difference in the mean closing price between the two groups.   \n",
    "Alternative hypothesis (H1): There is a significant difference in the mean closing price between the two groups."
   ]
  },
  {
   "cell_type": "markdown",
   "metadata": {},
   "source": [
    "3. Prepare data\n"
   ]
  },
  {
   "cell_type": "code",
   "execution_count": 1,
   "metadata": {},
   "outputs": [],
   "source": [
    "import pandas as pd\n",
    "from scipy.stats import ttest_ind\n",
    "\n",
    "# Đọc dữ liệu\n",
    "file_path = 'E:/Code/STAT3013.-P12_Nhom4/Dataset/Silver_data_filtered.xlsx'\n",
    "df = pd.read_excel(file_path)\n",
    "\n",
    "# Chuyển đổi cột 'date' thành định dạng datetime\n",
    "df['date'] = pd.to_datetime(df['date'])\n",
    "\n",
    "# Chia dữ liệu thành hai nhóm: trước và sau ngày 2020-01-01\n",
    "group1 = df[df['date'] < '2022-01-01']['close']  # Trước ngày 01/01/2022\n",
    "group2 = df[df['date'] >= '2022-01-01']['close']  # Sau ngày 01/01/2022\n",
    "# Kiểm tra thông tin chi tiết về DataFrame, bao gồm kiểu dữ liệu của các cột\n",
    "\n"
   ]
  },
  {
   "cell_type": "markdown",
   "metadata": {},
   "source": [
    "4. Perform T-Test"
   ]
  },
  {
   "cell_type": "code",
   "execution_count": 2,
   "metadata": {},
   "outputs": [
    {
     "name": "stdout",
     "output_type": "stream",
     "text": [
      "T-statistic: -11.451453048470023\n",
      "P-value: 7.559947938434328e-29\n"
     ]
    }
   ],
   "source": [
    "# Thực hiện kiểm định t-test\n",
    "t_stat, p_value = ttest_ind(group1, group2, equal_var=False)  # equal_var=False khi phương sai hai nhóm không bằng nhau\n",
    "\n",
    "# In kết quả\n",
    "print(\"T-statistic:\", t_stat)\n",
    "print(\"P-value:\", p_value)\n"
   ]
  },
  {
   "cell_type": "markdown",
   "metadata": {},
   "source": [
    "5. Conclusion"
   ]
  },
  {
   "cell_type": "markdown",
   "metadata": {},
   "source": [
    "\n",
    "p = 7.559947938434328e-29 < 0.05: indicating that the difference in mean between the two groups is statistically significant.\n",
    "\n",
    "This means that the average closing price before and after 2022 is not due to randomness but there is a real change in the gold price trend."
   ]
  },
  {
   "cell_type": "markdown",
   "metadata": {},
   "source": [
    "II. Chi-square test"
   ]
  },
  {
   "cell_type": "markdown",
   "metadata": {},
   "source": [
    "1. Objective  \n",
    "Examine the relationship between two categorical variables:  \n",
    "close_category: Classified as High or Low based on the mean closing price.  \n",
    "volume_category: Classified as High or Low based on the mean trading volume."
   ]
  },
  {
   "cell_type": "markdown",
   "metadata": {},
   "source": [
    "2. Hypotheses  \n",
    "Null hypothesis (H0): There is no relationship between closing price category and trading volume category.  \n",
    "Alternative hypothesis (H1): There is a significant relationship between closing price category and trading volume category."
   ]
  },
  {
   "cell_type": "code",
   "execution_count": 3,
   "metadata": {},
   "outputs": [],
   "source": [
    "# Phân loại giá đóng cửa (close) và khối lượng giao dịch (volume) thành \"High\" và \"Low\"\n",
    "mean_close = df['close'].mean()\n",
    "mean_volume = df['volume'].mean()\n",
    "\n",
    "df['close_category'] = ['High' if close >= mean_close else 'Low' for close in df['close']]\n",
    "df['volume_category'] = ['High' if volume >= mean_volume else 'Low' for volume in df['volume']]"
   ]
  },
  {
   "cell_type": "code",
   "execution_count": 4,
   "metadata": {},
   "outputs": [
    {
     "name": "stdout",
     "output_type": "stream",
     "text": [
      "volume_category  High  Low\n",
      "close_category            \n",
      "High               33  782\n",
      "Low                25  498\n"
     ]
    }
   ],
   "source": [
    "# Tạo bảng tần suất chéo\n",
    "contingency_table = pd.crosstab(df['close_category'], df['volume_category'])\n",
    "\n",
    "# Hiển thị bảng tần suất\n",
    "print(contingency_table)\n"
   ]
  },
  {
   "cell_type": "code",
   "execution_count": 5,
   "metadata": {},
   "outputs": [
    {
     "name": "stdout",
     "output_type": "stream",
     "text": [
      "Chi-square statistic: 0.41053836712009134\n",
      "P-value: 0.5216963779021753\n",
      "Degrees of freedom: 1\n",
      "Expected frequencies:\n",
      "[[ 35.32884903 779.67115097]\n",
      " [ 22.67115097 500.32884903]]\n"
     ]
    }
   ],
   "source": [
    "from scipy.stats import chi2_contingency\n",
    "\n",
    "# Thực hiện kiểm định Chi-square\n",
    "chi2_stat, p_value, dof, expected = chi2_contingency(contingency_table, correction=False)\n",
    "\n",
    "# In kết quả\n",
    "print(\"Chi-square statistic:\", chi2_stat)\n",
    "print(\"P-value:\", p_value)\n",
    "print(\"Degrees of freedom:\", dof)\n",
    "print(\"Expected frequencies:\")\n",
    "print(expected)\n"
   ]
  },
  {
   "cell_type": "markdown",
   "metadata": {},
   "source": [
    "Conclusion"
   ]
  },
  {
   "cell_type": "markdown",
   "metadata": {},
   "source": [
    "P-value = 0.522: (>0.05), there is no statistical evidence to conclude that there is a relationship between close_category and volume_category. This means that \"close price high/low\" and \"high/low trading volume\" may not be related in this dataset."
   ]
  },
  {
   "cell_type": "markdown",
   "metadata": {},
   "source": [
    "III. Build a confidence gap"
   ]
  },
  {
   "cell_type": "code",
   "execution_count": 6,
   "metadata": {},
   "outputs": [],
   "source": [
    "import numpy as np\n",
    "import pandas as pd\n",
    "from scipy.stats import norm\n",
    "\n",
    "\n",
    "# Lấy cột giá đóng cửa (close)\n",
    "data = df['close']\n"
   ]
  },
  {
   "cell_type": "code",
   "execution_count": 7,
   "metadata": {},
   "outputs": [],
   "source": [
    "# Tính trung bình, độ lệch chuẩn, và cỡ mẫu\n",
    "mean = np.mean(data)\n",
    "std_dev = np.std(data, ddof=1)  # ddof=1 để tính độ lệch chuẩn mẫu\n",
    "n = len(data)\n"
   ]
  },
  {
   "cell_type": "code",
   "execution_count": 8,
   "metadata": {},
   "outputs": [
    {
     "name": "stdout",
     "output_type": "stream",
     "text": [
      "Mean: 22.0004237991812\n",
      "Standard Deviation: 3.9866926781433496\n",
      "Sample Size: 1338\n",
      "Confidence Interval: (np.float64(21.786808284029107), np.float64(22.21403931433329))\n"
     ]
    }
   ],
   "source": [
    "# Giá trị Z cho mức tin cậy 95% (1.96)\n",
    "z = norm.ppf(0.975)  # norm.ppf(0.975) = 1.96 cho phân phối chuẩn\n",
    "\n",
    "# Tính khoảng tin cậy\n",
    "margin_of_error = z * (std_dev / np.sqrt(n))\n",
    "confidence_interval = (mean - margin_of_error, mean + margin_of_error)\n",
    "\n",
    "# In kết quả\n",
    "print(\"Mean:\", mean)\n",
    "print(\"Standard Deviation:\", std_dev)\n",
    "print(\"Sample Size:\", n)\n",
    "print(\"Confidence Interval:\", confidence_interval)\n"
   ]
  },
  {
   "cell_type": "markdown",
   "metadata": {},
   "source": [
    "Conclusion"
   ]
  },
  {
   "cell_type": "markdown",
   "metadata": {},
   "source": [
    "95% confidence interval = [21.787, 22.214]"
   ]
  }
 ],
 "metadata": {
  "kernelspec": {
   "display_name": "Python 3",
   "language": "python",
   "name": "python3"
  },
  "language_info": {
   "codemirror_mode": {
    "name": "ipython",
    "version": 3
   },
   "file_extension": ".py",
   "mimetype": "text/x-python",
   "name": "python",
   "nbconvert_exporter": "python",
   "pygments_lexer": "ipython3",
   "version": "3.12.2"
  }
 },
 "nbformat": 4,
 "nbformat_minor": 2
}
