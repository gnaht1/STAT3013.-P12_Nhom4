{
 "cells": [
  {
   "cell_type": "code",
   "execution_count": 13,
   "id": "b2833f5d-568e-44b2-ac57-9592c02dc097",
   "metadata": {},
   "outputs": [
    {
     "name": "stdout",
     "output_type": "stream",
     "text": [
      "Requirement already satisfied: scikit-learn in c:\\users\\m s i\\appdata\\local\\programs\\python\\python312\\lib\\site-packages (1.5.2)\n",
      "Requirement already satisfied: numpy>=1.19.5 in c:\\users\\m s i\\appdata\\local\\programs\\python\\python312\\lib\\site-packages (from scikit-learn) (2.1.1)\n",
      "Requirement already satisfied: scipy>=1.6.0 in c:\\users\\m s i\\appdata\\local\\programs\\python\\python312\\lib\\site-packages (from scikit-learn) (1.14.1)\n",
      "Requirement already satisfied: joblib>=1.2.0 in c:\\users\\m s i\\appdata\\local\\programs\\python\\python312\\lib\\site-packages (from scikit-learn) (1.4.2)\n",
      "Requirement already satisfied: threadpoolctl>=3.1.0 in c:\\users\\m s i\\appdata\\local\\programs\\python\\python312\\lib\\site-packages (from scikit-learn) (3.5.0)\n"
     ]
    },
    {
     "name": "stderr",
     "output_type": "stream",
     "text": [
      "\n",
      "[notice] A new release of pip is available: 24.2 -> 24.3.1\n",
      "[notice] To update, run: python.exe -m pip install --upgrade pip\n"
     ]
    },
    {
     "name": "stdout",
     "output_type": "stream",
     "text": [
      "Requirement already satisfied: openpyxl in c:\\users\\m s i\\appdata\\local\\programs\\python\\python312\\lib\\site-packages (3.1.5)\n",
      "Requirement already satisfied: et-xmlfile in c:\\users\\m s i\\appdata\\local\\programs\\python\\python312\\lib\\site-packages (from openpyxl) (2.0.0)\n"
     ]
    },
    {
     "name": "stderr",
     "output_type": "stream",
     "text": [
      "\n",
      "[notice] A new release of pip is available: 24.2 -> 24.3.1\n",
      "[notice] To update, run: python.exe -m pip install --upgrade pip\n"
     ]
    }
   ],
   "source": [
    "import pandas as pd\n",
    "\n",
    "# Install scikit-learn\n",
    "!pip install scikit-learn\n",
    "# Install openpyxl\n",
    "!pip install openpyxl\n",
    "\n",
    "\n",
    "from sklearn.model_selection import (\n",
    "    train_test_split,\n",
    ")  # used to split your dataset into two parts: a training set and a testing set.\n",
    "from sklearn.linear_model import (\n",
    "    LinearRegression,\n",
    ")  # used to create a linear regression model.\n",
    "from sklearn.metrics import (\n",
    "    mean_absolute_error,\n",
    "    mean_squared_error,\n",
    "    mean_absolute_percentage_error,\n",
    ")  # evaluate the performance of machine learning models\n",
    "import numpy as np\n"
   ]
  },
  {
   "cell_type": "code",
   "execution_count": 2,
   "id": "0b582cbb-887f-4e48-91f6-4cb99d314dc5",
   "metadata": {},
   "outputs": [],
   "source": [
    "# Load dataset\n",
    "df = pd.read_excel('Gold_data_filtered.xlsx')"
   ]
  },
  {
   "cell_type": "code",
   "execution_count": 3,
   "id": "b9aba191-fc0c-46c0-82af-25ca972d4ab9",
   "metadata": {},
   "outputs": [
    {
     "name": "stdout",
     "output_type": "stream",
     "text": [
      "        date         open         high          low        close  volume\n",
      "0 2019-03-01  1312.199951  1312.199951  1288.900024  1296.400024     110\n",
      "1 2019-03-04  1285.500000  1287.000000  1281.900024  1284.800049      28\n",
      "2 2019-03-05  1287.000000  1287.000000  1282.000000  1282.000000     114\n",
      "3 2019-03-06  1287.099976  1287.099976  1282.599976  1284.900024      14\n",
      "4 2019-03-07  1281.000000  1284.599976  1281.000000  1283.800049      11\n",
      "date      0\n",
      "open      0\n",
      "high      0\n",
      "low       0\n",
      "close     0\n",
      "volume    0\n",
      "dtype: int64\n"
     ]
    }
   ],
   "source": [
    "# Display the first few rows\n",
    "print(df.head())\n",
    "\n",
    "# Check for any missing values\n",
    "print(df.isnull().sum())"
   ]
  },
  {
   "cell_type": "code",
   "execution_count": 4,
   "id": "fbb8615e-0c4c-4bea-a572-2a50640e1a65",
   "metadata": {},
   "outputs": [],
   "source": [
    "# Define the features (X) and the target (y)\n",
    "X = df[['open', 'high', 'low', 'volume']]\n",
    "y = df['close']"
   ]
  },
  {
   "cell_type": "code",
   "execution_count": 6,
   "id": "dfc622f1-4242-4252-8e09-1223c7fd64e9",
   "metadata": {},
   "outputs": [],
   "source": [
    "# Function to split dataset into train, test, and validation sets\n",
    "def split_data(X, y, train_ratio, test_ratio, val_ratio):\n",
    "    # First split: train + (test + validation)\n",
    "    X_train, X_temp, y_train, y_temp = train_test_split(X, y, test_size=(1 - train_ratio), random_state=42)\n",
    "    \n",
    "    # Calculate the ratio for test within the remaining (test + validation) split\n",
    "    test_size = test_ratio / (test_ratio + val_ratio)\n",
    "    \n",
    "    # Second split: test and validation from the temporary set\n",
    "    X_test, X_val, y_test, y_val = train_test_split(X_temp, y_temp, test_size=(1 - test_size), random_state=42)\n",
    "    \n",
    "    return X_train, X_test, X_val, y_train, y_test, y_val"
   ]
  },
  {
   "cell_type": "code",
   "execution_count": 12,
   "id": "b26186f0",
   "metadata": {},
   "outputs": [],
   "source": [
    "# List of ratio configurations\n",
    "ratios = {\n",
    "    \"7:2:1\": (0.7, 0.2, 0.1),\n",
    "    \"6:3:1\": (0.6, 0.3, 0.1),\n",
    "    \"5:3:2\": (0.5, 0.3, 0.2)\n",
    "}"
   ]
  },
  {
   "cell_type": "code",
   "execution_count": 14,
   "id": "e28deb62",
   "metadata": {},
   "outputs": [],
   "source": [
    "def evaluate_model(y_true, y_pred):\n",
    "    mae = mean_absolute_error(y_true, y_pred)\n",
    "    mape = mean_absolute_percentage_error(y_true, y_pred)\n",
    "    rmse = np.sqrt(mean_squared_error(y_true, y_pred))\n",
    "    return mae, mape, rmse\n"
   ]
  },
  {
   "cell_type": "code",
   "execution_count": 15,
   "id": "7c14c22d",
   "metadata": {},
   "outputs": [
    {
     "name": "stdout",
     "output_type": "stream",
     "text": [
      "\n",
      "Evaluating ratio 7:2:1\n",
      "Validation Set - MAE: 3.9294, MAPE: 0.0021, RMSE: 5.7310\n",
      "Test Set - MAE: 4.5479, MAPE: 0.0025, RMSE: 6.7112\n",
      "\n",
      "Evaluating ratio 6:3:1\n",
      "Validation Set - MAE: 4.6897, MAPE: 0.0025, RMSE: 6.9391\n",
      "Test Set - MAE: 3.9912, MAPE: 0.0022, RMSE: 5.7895\n",
      "\n",
      "Evaluating ratio 5:3:2\n",
      "Validation Set - MAE: 4.0592, MAPE: 0.0022, RMSE: 5.8925\n",
      "Test Set - MAE: 4.3230, MAPE: 0.0024, RMSE: 6.2827\n"
     ]
    }
   ],
   "source": [
    "# Loop through each ratio, build the model, and evaluate\n",
    "for ratio_name, (train_ratio, test_ratio, val_ratio) in ratios.items():\n",
    "    print(f\"\\nEvaluating ratio {ratio_name}\")\n",
    "\n",
    "    # Split the data\n",
    "    X_train, X_test, X_val, y_train, y_test, y_val = split_data(\n",
    "        X, y, train_ratio, test_ratio, val_ratio\n",
    "    )\n",
    "\n",
    "    # Initialize and train the model\n",
    "    model = LinearRegression()\n",
    "    model.fit(X_train, y_train)\n",
    "\n",
    "    # Validation evaluation\n",
    "    y_val_pred = model.predict(X_val)\n",
    "    val_mae, val_mape, val_rmse = evaluate_model(y_val, y_val_pred)\n",
    "\n",
    "    print(\n",
    "        f\"Validation Set - MAE: {val_mae:.4f}, MAPE: {val_mape:.4f}, RMSE: {val_rmse:.4f}\"\n",
    "    )\n",
    "\n",
    "    # Test evaluation\n",
    "    y_test_pred = model.predict(X_test)\n",
    "    test_mae, test_mape, test_rmse = evaluate_model(y_test, y_test_pred)\n",
    "\n",
    "    print(\n",
    "        f\"Test Set - MAE: {test_mae:.4f}, MAPE: {test_mape:.4f}, RMSE: {test_rmse:.4f}\"\n",
    "    )"
   ]
  }
 ],
 "metadata": {
  "kernelspec": {
   "display_name": "Python 3",
   "language": "python",
   "name": "python3"
  },
  "language_info": {
   "codemirror_mode": {
    "name": "ipython",
    "version": 3
   },
   "file_extension": ".py",
   "mimetype": "text/x-python",
   "name": "python",
   "nbconvert_exporter": "python",
   "pygments_lexer": "ipython3",
   "version": "3.12.2"
  }
 },
 "nbformat": 4,
 "nbformat_minor": 5
}
